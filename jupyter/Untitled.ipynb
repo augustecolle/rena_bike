{
 "cells": [
  {
   "cell_type": "markdown",
   "metadata": {
    "deletable": true,
    "editable": true
   },
   "source": [
    "# Finding the optimal speed for the least energy use"
   ]
  },
  {
   "cell_type": "code",
   "execution_count": 82,
   "metadata": {
    "collapsed": false,
    "deletable": true,
    "editable": true
   },
   "outputs": [
    {
     "name": "stdout",
     "output_type": "stream",
     "text": [
      "Once deleted, variables cannot be recovered. Proceed (y/[n])? y\n",
      "IPython console for SymPy 1.0 (Python 3.5.2-64-bit) (ground types: python)\n",
      "\n",
      "These commands were executed:\n",
      ">>> from __future__ import division\n",
      ">>> from sympy import *\n",
      ">>> x, y, z, t = symbols('x y z t')\n",
      ">>> k, m, n = symbols('k m n', integer=True)\n",
      ">>> f, g, h = symbols('f g h', cls=Function)\n",
      ">>> init_printing()\n",
      "\n",
      "Documentation can be found at http://docs.sympy.org/1.0/\n"
     ]
    }
   ],
   "source": [
    "%reset\n",
    "\n",
    "import numpy as np\n",
    "import sympy as sp\n",
    "import matplotlib.pyplot as plt\n",
    "\n",
    "sp.init_printing(use_unicode=True)\n",
    "sp.init_session()\n",
    "\n",
    "dist = 30000\n",
    "\n",
    "A = Symbol('A', positive=True)\n",
    "k = Symbol('k', positive=True)\n",
    "Cd = Symbol('Cd', positive=True)\n",
    "rho = Symbol('rho', positive=True)\n",
    "alpha = Symbol('alpha', positive=True)\n",
    "v_w = Symbol('v_w', positive=True)\n",
    "v_l = Symbol('v_l', positive=True, real=True)\n",
    "v_r = Symbol('v_r', positive=True)\n",
    "t = Symbol('t', positive=True)\n",
    "s = Symbol('s', positive=True)\n",
    "beta = Symbol('beta', positive=True)\n",
    "E_tot = Symbol('E_tot', positive=True)\n",
    "\n",
    "beta = sp.Symbol('beta')\n",
    "\n",
    "#beta = sp.atan(v_w*sp.sin(alpha)/(v_f - v_w*sp.cos(alpha)))\n",
    "\n",
    "#Pw = rho*A*Cd/2.0*sp.cos(beta)*(v_f**2 + v_w**2 + 2*v_f*v_w*sp.cos(alpha))*v_f\n",
    "\n",
    "#dPw = sp.diff(Pw, v_f)\n",
    "#\n",
    "#print(dPw)\n",
    "#dPw = sp.simplify(dPw)\n",
    "#print(pretty(dPw))\n",
    "\n",
    "#res = sp.solve(sp.diff(Pw, v_f), v_f)\n",
    "\n",
    "#print(res)\n",
    "\n",
    "#sp.plot(res[0].subs(v_w,1), (alpha, -np.pi, sp.pi))\n",
    "\n",
    "#alpha_lam = sp.lambdify(alpha, res[0].subs(v_w,1), modules=['numpy'])\n",
    "\n",
    "#alpha = np.linspace(-np.pi, np.pi, 1000)\n",
    "#Pw_opt = alpha_lam(alpha)\n",
    "\n",
    "#plt.plot(alpha, Pw_opt)\n",
    "#plt.show()\n"
   ]
  },
  {
   "cell_type": "code",
   "execution_count": 83,
   "metadata": {
    "collapsed": false,
    "deletable": true,
    "editable": true
   },
   "outputs": [
    {
     "data": {
      "image/png": "[encoded data removed]",
      "text/latex": [
       "$$\\left [ - \\frac{1}{v_{r}} \\sqrt{v_{r}^{2} - v_{w}^{2} \\sin^{2}{\\left (\\alpha \\right )}}, \\quad \\frac{1}{v_{r}} \\sqrt{v_{r}^{2} - v_{w}^{2} \\sin^{2}{\\left (\\alpha \\right )}}\\right ]$$"
      ],
      "text/plain": [
       "⎡    ____________________      ____________________⎤\n",
       "⎢   ╱   2      2    2         ╱   2      2    2    ⎥\n",
       "⎢-╲╱  vᵣ  - v_w ⋅sin (α)    ╲╱  vᵣ  - v_w ⋅sin (α) ⎥\n",
       "⎢─────────────────────────, ───────────────────────⎥\n",
       "⎣            vᵣ                        vᵣ          ⎦"
      ]
     },
     "execution_count": 83,
     "metadata": {},
     "output_type": "execute_result"
    }
   ],
   "source": [
    "\n",
    "\n",
    "trig_eq = Eq(sp.sin(alpha)/v_r, sp.sin(sp.pi - beta)/v_w)\n",
    "sols = solve(trig_eq, beta)\n",
    "\n",
    "scal_prods = []\n",
    "for x in sols:\n",
    "    scal_prods.append((sp.cos(x)).simplify())\n",
    "    \n",
    "scal_prods\n"
   ]
  },
  {
   "cell_type": "code",
   "execution_count": 84,
   "metadata": {
    "collapsed": false,
    "deletable": true,
    "editable": true
   },
   "outputs": [
    {
     "data": {
      "image/png": "[encoded data removed]",
      "text/latex": [
       "$$\\left [ - k s \\sqrt{v_{l}^{2} - 2 v_{l} v_{w} \\cos{\\left (\\alpha \\right )} + v_{w}^{2}} \\sqrt{v_{l}^{2} - 2 v_{l} v_{w} \\cos{\\left (\\alpha \\right )} - v_{w}^{2} \\sin^{2}{\\left (\\alpha \\right )} + v_{w}^{2}}, \\quad k s \\sqrt{v_{l}^{2} - 2 v_{l} v_{w} \\cos{\\left (\\alpha \\right )} + v_{w}^{2}} \\sqrt{v_{l}^{2} - 2 v_{l} v_{w} \\cos{\\left (\\alpha \\right )} - v_{w}^{2} \\sin^{2}{\\left (\\alpha \\right )} + v_{w}^{2}}\\right ]$$"
      ],
      "text/plain": [
       "⎡        ______________________________    ___________________________________\n",
       "⎢       ╱   2                        2    ╱   2                        2    2 \n",
       "⎣-k⋅s⋅╲╱  vₗ  - 2⋅vₗ⋅v_w⋅cos(α) + v_w  ⋅╲╱  vₗ  - 2⋅vₗ⋅v_w⋅cos(α) - v_w ⋅sin (\n",
       "\n",
       "__________         ______________________________    _________________________\n",
       "        2         ╱   2                        2    ╱   2                     \n",
       "α) + v_w  , k⋅s⋅╲╱  vₗ  - 2⋅vₗ⋅v_w⋅cos(α) + v_w  ⋅╲╱  vₗ  - 2⋅vₗ⋅v_w⋅cos(α) - \n",
       "\n",
       "____________________⎤\n",
       "   2    2         2 ⎥\n",
       "v_w ⋅sin (α) + v_w  ⎦"
      ]
     },
     "execution_count": 84,
     "metadata": {},
     "output_type": "execute_result"
    }
   ],
   "source": [
    "integrand_E = []\n",
    "E_tot = []\n",
    "for x in scal_prods:\n",
    "    res = (k*v_r**2*x)\n",
    "    res = res.subs(v_r, sp.sqrt(v_w**2 + v_l**2 - 2*v_w*v_l*sp.cos(alpha)))\n",
    "    integrand_E.append(res)\n",
    "    E_tot.append(sp.integrate(res, s))\n",
    "E_tot"
   ]
  },
  {
   "cell_type": "code",
   "execution_count": 85,
   "metadata": {
    "collapsed": false,
    "deletable": true,
    "editable": true
   },
   "outputs": [
    {
     "data": {
      "image/png": "[encoded data removed]",
      "text/latex": [
       "$$\\left [ - \\frac{k s \\left(v_{l} - v_{w} \\cos{\\left (\\alpha \\right )}\\right) \\sqrt{v_{l}^{2} - 2 v_{l} v_{w} \\cos{\\left (\\alpha \\right )} + v_{w}^{2}}}{\\sqrt{v_{l}^{2} - 2 v_{l} v_{w} \\cos{\\left (\\alpha \\right )} - v_{w}^{2} \\sin^{2}{\\left (\\alpha \\right )} + v_{w}^{2}}} - \\frac{k s \\sqrt{v_{l}^{2} - 2 v_{l} v_{w} \\cos{\\left (\\alpha \\right )} - v_{w}^{2} \\sin^{2}{\\left (\\alpha \\right )} + v_{w}^{2}}}{\\sqrt{v_{l}^{2} - 2 v_{l} v_{w} \\cos{\\left (\\alpha \\right )} + v_{w}^{2}}} \\left(v_{l} - v_{w} \\cos{\\left (\\alpha \\right )}\\right), \\quad \\frac{k s \\left(v_{l} - v_{w} \\cos{\\left (\\alpha \\right )}\\right) \\sqrt{v_{l}^{2} - 2 v_{l} v_{w} \\cos{\\left (\\alpha \\right )} + v_{w}^{2}}}{\\sqrt{v_{l}^{2} - 2 v_{l} v_{w} \\cos{\\left (\\alpha \\right )} - v_{w}^{2} \\sin^{2}{\\left (\\alpha \\right )} + v_{w}^{2}}} + \\frac{k s \\sqrt{v_{l}^{2} - 2 v_{l} v_{w} \\cos{\\left (\\alpha \\right )} - v_{w}^{2} \\sin^{2}{\\left (\\alpha \\right )} + v_{w}^{2}}}{\\sqrt{v_{l}^{2} - 2 v_{l} v_{w} \\cos{\\left (\\alpha \\right )} + v_{w}^{2}}} \\left(v_{l} - v_{w} \\cos{\\left (\\alpha \\right )}\\right)\\right ]$$"
      ],
      "text/plain": [
       "⎡                           ______________________________                    \n",
       "⎢                          ╱   2                        2                     \n",
       "⎢  k⋅s⋅(vₗ - v_w⋅cos(α))⋅╲╱  vₗ  - 2⋅vₗ⋅v_w⋅cos(α) + v_w     k⋅s⋅(vₗ - v_w⋅cos\n",
       "⎢- ─────────────────────────────────────────────────────── - ─────────────────\n",
       "⎢         _____________________________________________                       \n",
       "⎢        ╱   2                        2    2         2                        \n",
       "⎣      ╲╱  vₗ  - 2⋅vₗ⋅v_w⋅cos(α) - v_w ⋅sin (α) + v_w                         \n",
       "\n",
       "        _____________________________________________                         \n",
       "       ╱   2                        2    2         2                          \n",
       "(α))⋅╲╱  vₗ  - 2⋅vₗ⋅v_w⋅cos(α) - v_w ⋅sin (α) + v_w    k⋅s⋅(vₗ - v_w⋅cos(α))⋅╲\n",
       "─────────────────────────────────────────────────────, ───────────────────────\n",
       "    ______________________________                            ________________\n",
       "   ╱   2                        2                            ╱   2            \n",
       " ╲╱  vₗ  - 2⋅vₗ⋅v_w⋅cos(α) + v_w                           ╲╱  vₗ  - 2⋅vₗ⋅v_w⋅\n",
       "\n",
       "  ______________________________                            __________________\n",
       " ╱   2                        2                            ╱   2              \n",
       "╱  vₗ  - 2⋅vₗ⋅v_w⋅cos(α) + v_w     k⋅s⋅(vₗ - v_w⋅cos(α))⋅╲╱  vₗ  - 2⋅vₗ⋅v_w⋅co\n",
       "──────────────────────────────── + ───────────────────────────────────────────\n",
       "_____________________________                           ______________________\n",
       "            2    2         2                           ╱   2                  \n",
       "cos(α) - v_w ⋅sin (α) + v_w                          ╲╱  vₗ  - 2⋅vₗ⋅v_w⋅cos(α)\n",
       "\n",
       "___________________________⎤\n",
       "          2    2         2 ⎥\n",
       "s(α) - v_w ⋅sin (α) + v_w  ⎥\n",
       "───────────────────────────⎥\n",
       "________                   ⎥\n",
       "      2                    ⎥\n",
       " + v_w                     ⎦"
      ]
     },
     "execution_count": 85,
     "metadata": {},
     "output_type": "execute_result"
    }
   ],
   "source": [
    "E_tot_d = []\n",
    "for x in E_tot:\n",
    "    E_tot_d.append(diff(x, v_l))\n",
    "E_tot_d"
   ]
  },
  {
   "cell_type": "code",
   "execution_count": 86,
   "metadata": {
    "collapsed": false,
    "deletable": true,
    "editable": true
   },
   "outputs": [
    {
     "data": {
      "image/png": "[encoded data removed]",
      "text/latex": [
       "$$\\left [ \\left [ v_{w} \\cos{\\left (\\alpha \\right )}, \\quad - \\frac{i v_{w}}{2} \\sqrt{2} \\sin{\\left (\\alpha \\right )} + v_{w} \\cos{\\left (\\alpha \\right )}, \\quad \\frac{i v_{w}}{2} \\sqrt{2} \\sin{\\left (\\alpha \\right )} + v_{w} \\cos{\\left (\\alpha \\right )}\\right ], \\quad \\left [ v_{w} \\cos{\\left (\\alpha \\right )}, \\quad - \\frac{i v_{w}}{2} \\sqrt{2} \\sin{\\left (\\alpha \\right )} + v_{w} \\cos{\\left (\\alpha \\right )}, \\quad \\frac{i v_{w}}{2} \\sqrt{2} \\sin{\\left (\\alpha \\right )} + v_{w} \\cos{\\left (\\alpha \\right )}\\right ]\\right ]$$"
      ],
      "text/plain": [
       "⎡⎡              √2⋅ⅈ⋅v_w⋅sin(α)               √2⋅ⅈ⋅v_w⋅sin(α)             ⎤  ⎡\n",
       "⎢⎢v_w⋅cos(α), - ─────────────── + v_w⋅cos(α), ─────────────── + v_w⋅cos(α)⎥, ⎢\n",
       "⎣⎣                     2                             2                    ⎦  ⎣\n",
       "\n",
       "              √2⋅ⅈ⋅v_w⋅sin(α)               √2⋅ⅈ⋅v_w⋅sin(α)             ⎤⎤\n",
       "v_w⋅cos(α), - ─────────────── + v_w⋅cos(α), ─────────────── + v_w⋅cos(α)⎥⎥\n",
       "                     2                             2                    ⎦⎦"
      ]
     },
     "execution_count": 86,
     "metadata": {},
     "output_type": "execute_result"
    }
   ],
   "source": [
    "sols = []\n",
    "for x in E_tot_d:\n",
    "    sols.append(solve(x, v_l))\n",
    "    \n",
    "sols"
   ]
  },
  {
   "cell_type": "code",
   "execution_count": 87,
   "metadata": {
    "collapsed": false,
    "deletable": true,
    "editable": true
   },
   "outputs": [
    {
     "data": {
      "image/png": "[encoded data removed]",
      "text/latex": [
       "$$\\left [ - 11700.0 \\sqrt{v_{l}^{2} - 2 \\sqrt{2} v_{l} + 2} \\sqrt{v_{l}^{2} - 2 \\sqrt{2} v_{l} + 4}, \\quad 11700.0 \\sqrt{v_{l}^{2} - 2 \\sqrt{2} v_{l} + 2} \\sqrt{v_{l}^{2} - 2 \\sqrt{2} v_{l} + 4}\\right ]$$"
      ],
      "text/plain": [
       "⎡            ___________________    ___________________             __________\n",
       "⎢           ╱   2                  ╱   2                           ╱   2      \n",
       "⎣-11700.0⋅╲╱  vₗ  - 2⋅√2⋅vₗ + 2 ⋅╲╱  vₗ  - 2⋅√2⋅vₗ + 4 , 11700.0⋅╲╱  vₗ  - 2⋅√\n",
       "\n",
       "_________    ___________________⎤\n",
       "            ╱   2               ⎥\n",
       "2⋅vₗ + 2 ⋅╲╱  vₗ  - 2⋅√2⋅vₗ + 4 ⎦"
      ]
     },
     "execution_count": 87,
     "metadata": {},
     "output_type": "execute_result"
    }
   ],
   "source": [
    "E_tots = []\n",
    "for x in E_tot:\n",
    "    E_tot_s = x.subs(v_w, 2)\n",
    "    E_tot_s = E_tot_s.subs(alpha, sp.pi/4)\n",
    "    E_tot_s = E_tot_s.subs(k, 0.6*1.3/2)\n",
    "    E_tot_s = E_tot_s.subs(s, dist)\n",
    "    E_tots.append(E_tot_s)\n",
    "\n",
    "E_tots"
   ]
  },
  {
   "cell_type": "code",
   "execution_count": 88,
   "metadata": {
    "collapsed": false,
    "deletable": true,
    "editable": true
   },
   "outputs": [],
   "source": [
    "\n",
    "v_l_lam = sp.lambdify(v_l, E_tots[1], modules=['numpy'])\n",
    "\n",
    "v_ll = np.linspace(1, 20, 10000)\n",
    "\n",
    "E_tott = v_l_lam(v_ll)\n",
    "\n",
    "plt.plot(v_ll, E_tott/3600000)\n",
    "plt.plot(v_ll, dist/v_ll*1/3600)\n",
    "plt.show()\n",
    "\n",
    "\n",
    "\n",
    "\n",
    "\n",
    "\n",
    "\n",
    "\n",
    "\n",
    "\n",
    "#solve(E_tot_d, v_l)"
   ]
  }
 ],
 "metadata": {
  "kernelspec": {
   "display_name": "Python 3",
   "language": "python",
   "name": "python3"
  },
  "language_info": {
   "codemirror_mode": {
    "name": "ipython",
    "version": 3
   },
   "file_extension": ".py",
   "mimetype": "text/x-python",
   "name": "python",
   "nbconvert_exporter": "python",
   "pygments_lexer": "ipython3",
   "version": "3.5.2"
  }
 },
 "nbformat": 4,
 "nbformat_minor": 2
}
